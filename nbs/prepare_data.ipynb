{
 "cells": [
  {
   "cell_type": "markdown",
   "metadata": {},
   "source": [
    "Les Miserables: coappearance network of characters in the novel Les Miserables (http://www-personal.umich.edu/~mejn/netdata/).\n",
    "\n",
    "D. E. Knuth, The Stanford GraphBase: A Platform for Combinatorial Computing, Addison-Wesley, Reading, MA (1993)."
   ]
  },
  {
   "cell_type": "code",
   "execution_count": 1,
   "metadata": {},
   "outputs": [],
   "source": [
    "import numpy as np, networkx as nx, json"
   ]
  },
  {
   "cell_type": "code",
   "execution_count": 2,
   "metadata": {
    "code_folding": [
     0
    ]
   },
   "outputs": [],
   "source": [
    "class GraphCommunities:\n",
    "    def __init__(self, graph, k=3):\n",
    "        self.communities = nx.community.girvan_newman(graph)\n",
    "        for data in self.communities:\n",
    "            if len(data) == k: break\n",
    "\n",
    "        self.data = {o:i  for i,cluster in enumerate(data) for o in cluster}\n",
    "    \n",
    "    def get_cluster(self, k): return self.data[k]"
   ]
  },
  {
   "cell_type": "code",
   "execution_count": 3,
   "metadata": {},
   "outputs": [],
   "source": [
    "data = nx.read_gml('data/lesmis.gml')\n",
    "communities = GraphCommunities(data, k=3)"
   ]
  },
  {
   "cell_type": "code",
   "execution_count": 7,
   "metadata": {},
   "outputs": [],
   "source": [
    "final = {}\n",
    "final['nodes'] = [{'name': o} for o in data.nodes]\n",
    "# final['nodes'] = [{'name': o, 'k': communities.get_cluster(o)} for o in data.nodes]\n",
    "name2idx = {o:i for i,o in enumerate(data.nodes)}\n",
    "final['links'] = [{'source':name2idx[a], 'target':name2idx[b], 'coappearances':c['value']}\n",
    "                  for a,b,c in data.edges.data()]"
   ]
  },
  {
   "cell_type": "code",
   "execution_count": 8,
   "metadata": {},
   "outputs": [],
   "source": [
    "with open('../src/data.json', 'w') as f: json.dump(final, f)"
   ]
  },
  {
   "cell_type": "code",
   "execution_count": null,
   "metadata": {},
   "outputs": [],
   "source": []
  },
  {
   "cell_type": "code",
   "execution_count": null,
   "metadata": {},
   "outputs": [],
   "source": []
  }
 ],
 "metadata": {
  "kernelspec": {
   "display_name": "Python 3.7.6 64-bit ('ml': conda)",
   "language": "python",
   "name": "python37664bitmlcondae0199e789b7948f2af938d68e94b8b65"
  },
  "language_info": {
   "codemirror_mode": {
    "name": "ipython",
    "version": 3
   },
   "file_extension": ".py",
   "mimetype": "text/x-python",
   "name": "python",
   "nbconvert_exporter": "python",
   "pygments_lexer": "ipython3",
   "version": "3.7.7"
  },
  "toc": {
   "base_numbering": 1,
   "nav_menu": {},
   "number_sections": true,
   "sideBar": true,
   "skip_h1_title": false,
   "title_cell": "Table of Contents",
   "title_sidebar": "Contents",
   "toc_cell": false,
   "toc_position": {},
   "toc_section_display": true,
   "toc_window_display": false
  }
 },
 "nbformat": 4,
 "nbformat_minor": 4
}
